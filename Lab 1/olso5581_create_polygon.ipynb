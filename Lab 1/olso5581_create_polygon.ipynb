{
 "cells": [
  {
   "cell_type": "code",
   "execution_count": 8,
   "metadata": {},
   "outputs": [
    {
     "name": "stdout",
     "output_type": "stream",
     "text": [
      "Collecting psycopg2-binary\n",
      "  Downloading psycopg2_binary-2.9.10-cp311-cp311-win_amd64.whl.metadata (5.0 kB)\n",
      "Downloading psycopg2_binary-2.9.10-cp311-cp311-win_amd64.whl (1.2 MB)\n",
      "   ---------------------------------------- 1.2/1.2 MB 5.7 MB/s eta 0:00:00\n",
      "Installing collected packages: psycopg2-binary\n",
      "Successfully installed psycopg2-binary-2.9.10\n",
      "Note: you may need to restart the kernel to use updated packages.\n"
     ]
    }
   ],
   "source": [
    "pip install psycopg2-binary"
   ]
  },
  {
   "cell_type": "code",
   "execution_count": 9,
   "metadata": {},
   "outputs": [],
   "source": [
    "import arcpy\n",
    "import psycopg2\n"
   ]
  },
  {
   "cell_type": "code",
   "execution_count": 3,
   "metadata": {},
   "outputs": [],
   "source": [
    "#create list of coordinates\n",
    "\n",
    "coordinates = [ (0,0), (10,0), (10,10), (5,15), (0,10)]\n",
    "\n",
    "points = [arcpy.Point(*coords) for coords in coordinates]"
   ]
  },
  {
   "cell_type": "code",
   "execution_count": 4,
   "metadata": {},
   "outputs": [
    {
     "name": "stdout",
     "output_type": "stream",
     "text": [
      "<geoprocessing describe geometry object object at 0x000001A0A55931E0>\n"
     ]
    }
   ],
   "source": [
    "#create array from the points\n",
    "array = arcpy.Array(points)\n",
    "\n",
    "#create polygon from array\n",
    "polygon = arcpy.Polygon(array)\n",
    "\n",
    "print(polygon)"
   ]
  },
  {
   "cell_type": "code",
   "execution_count": 5,
   "metadata": {},
   "outputs": [
    {
     "name": "stdout",
     "output_type": "stream",
     "text": [
      "MULTIPOLYGON (((0 0, 10 0, 10 10, 5 15, 0 10, 0 0)))\n"
     ]
    }
   ],
   "source": [
    "# Convert my polygon to WKT\n",
    "wkt = polygon.WKT\n",
    "print(wkt)"
   ]
  },
  {
   "cell_type": "code",
   "execution_count": 16,
   "metadata": {},
   "outputs": [],
   "source": [
    "connection = psycopg2.connect(\n",
    "    dbname=\"lab0\",\n",
    "    user=\"postgres\",\n",
    "    password='S_FQm^\"tjA)kbFN@',\n",
    "    host=\"34.45.180.162\",\n",
    "    port=\"5432\"\n",
    ")\n",
    "\n",
    "cursor = connection.cursor()\n",
    "\n",
    "# Check if the table exists and create it if it doesn't\n",
    "create_table_query = \"\"\"\n",
    "CREATE TABLE IF NOT EXISTS my_polygon (\n",
    "    id SERIAL PRIMARY KEY,\n",
    "    geom GEOMETRY\n",
    ");\n",
    "\"\"\"\n",
    "cursor.execute(create_table_query)\n",
    "\n",
    "# Insert the polygon WKT into the table\n",
    "insert_query = \"\"\"\n",
    "INSERT INTO my_polygon (geom)\n",
    "VALUES (ST_GeomFromText(%s, 4326))\n",
    "\"\"\"\n",
    "cursor.execute(insert_query, (wkt,))\n",
    "connection.commit()\n",
    "\n",
    "cursor.close()\n",
    "connection.close()"
   ]
  }
 ],
 "metadata": {
  "kernelspec": {
   "display_name": "Python 3",
   "language": "python",
   "name": "python3"
  },
  "language_info": {
   "codemirror_mode": {
    "name": "ipython",
    "version": 3
   },
   "file_extension": ".py",
   "mimetype": "text/x-python",
   "name": "python",
   "nbconvert_exporter": "python",
   "pygments_lexer": "ipython3",
   "version": "3.11.8"
  }
 },
 "nbformat": 4,
 "nbformat_minor": 2
}
