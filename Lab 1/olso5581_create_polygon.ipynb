{
 "cells": [
  {
   "cell_type": "code",
   "execution_count": 11,
   "metadata": {},
   "outputs": [],
   "source": [
    "import arcpy\n",
    "import psycopg2\n"
   ]
  },
  {
   "cell_type": "code",
   "execution_count": null,
   "metadata": {},
   "outputs": [],
   "source": [
    "#create list of coordinates\n",
    "\n",
    "coordinates = [ (0,0), (-10,0), (-10,10), (-5,15), (0,10)]\n",
    "\n",
    "points = [arcpy.Point(*coords) for coords in coordinates] #iterate through list to make the coords into acrpy points"
   ]
  },
  {
   "cell_type": "code",
   "execution_count": null,
   "metadata": {},
   "outputs": [
    {
     "name": "stdout",
     "output_type": "stream",
     "text": [
      "<geoprocessing describe geometry object object at 0x000002295433A100>\n"
     ]
    }
   ],
   "source": [
    "#create array from the points - necessary for larger geometry\n",
    "array = arcpy.Array(points)\n",
    "\n",
    "#create polygon from array\n",
    "polygon = arcpy.Polygon(array)\n",
    "\n",
    "print(polygon)"
   ]
  },
  {
   "cell_type": "code",
   "execution_count": null,
   "metadata": {},
   "outputs": [
    {
     "name": "stdout",
     "output_type": "stream",
     "text": [
      "MULTIPOLYGON (((0 0, 0 10, -5 15, -10 10, -10 0, 0 0)))\n"
     ]
    }
   ],
   "source": [
    "# Convert my polygon to WKT\n",
    "wkt = polygon.WKT\n",
    "print(wkt)"
   ]
  },
  {
   "cell_type": "code",
   "execution_count": null,
   "metadata": {},
   "outputs": [],
   "source": [
    "#set connection to database - credentials removed for submission\n",
    "connection = psycopg2.connect(\n",
    "    dbname= ,\n",
    "    user= \n",
    "    password= ,\n",
    "    host= ,\n",
    "    port= \n",
    ")\n",
    "\n",
    "cursor = connection.cursor()\n",
    "\n",
    "# Check if the table exists and create it if it doesn't\n",
    "create_table_query = \"\"\"\n",
    "CREATE TABLE IF NOT EXISTS my_polygon (\n",
    "    id SERIAL PRIMARY KEY,\n",
    "    geom GEOMETRY\n",
    ");\n",
    "\"\"\"\n",
    "cursor.execute(create_table_query)\n",
    "\n",
    "# Insert the polygon WKT into the table\n",
    "insert_query = \"\"\"\n",
    "INSERT INTO my_polygon (geom)\n",
    "VALUES (ST_GeomFromText(%s, 4326))\n",
    "\"\"\"\n",
    "cursor.execute(insert_query, (wkt,))\n",
    "connection.commit()\n",
    "\n",
    "cursor.close()\n",
    "connection.close() #need to close cursor and the connection "
   ]
  }
 ],
 "metadata": {
  "kernelspec": {
   "display_name": "Python 3",
   "language": "python",
   "name": "python3"
  },
  "language_info": {
   "codemirror_mode": {
    "name": "ipython",
    "version": 3
   },
   "file_extension": ".py",
   "mimetype": "text/x-python",
   "name": "python",
   "nbconvert_exporter": "python",
   "pygments_lexer": "ipython3",
   "version": "3.11.8"
  }
 },
 "nbformat": 4,
 "nbformat_minor": 2
}
