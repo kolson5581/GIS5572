{
 "cells": [
  {
   "cell_type": "code",
   "execution_count": 31,
   "metadata": {},
   "outputs": [],
   "source": [
    "import arcpy\n",
    "from arcpy import env, mp\n",
    "import pandas as pd\n",
    "import requests\n",
    "import os\n",
    "import zipfile\n",
    "import numpy as np\n",
    "\n",
    "dem_url = r'https://resources.gisdata.mn.gov/pub/gdrs/data/pub/us_mn_state_dnr/elev_30m_digital_elevation_model/fgdb_elev_30m_digital_elevation_model.zip'\n",
    "out_dir = r'C:\\Users\\Eli Schlossberg\\Documents\\ArcGIS\\Projects\\MyProject'\n",
    "  \n",
    "output_crs = arcpy.SpatialReference(26915)\n",
    "output_dem = os.path.join(out_dir, 'reprojected_dem.tif')"
   ]
  },
  {
   "cell_type": "code",
   "execution_count": 39,
   "metadata": {},
   "outputs": [],
   "source": [
    "def download_dem(url, save_path):\n",
    "    response = requests.get(url, stream=True)\n",
    "    if response.status_code == 200:\n",
    "        with open(save_path, 'wb') as file:\n",
    "            for chunk in response.iter_content(chunk_size=1024):\n",
    "                file.write(chunk)\n",
    "        print(f\"Downloaded: {save_path}\")\n",
    "    else:\n",
    "        print(f\"Failed to download: {url}\")\n",
    "    with zipfile.ZipFile(save_path, 'r') as zip_ref:\n",
    "        zip_ref.extractall(os.path.join(out_dir, 'dem'))\n",
    "\n",
    "def crs_qa_step(dem, output_dem):\n",
    "    desc = arcpy.Describe(dem)\n",
    "    current_crs = desc.spatialReference\n",
    "\n",
    "    # Check if the CRS is the desired one\n",
    "    if current_crs != output_crs:\n",
    "        print(f\"Reprojecting {dem} from {current_crs.name} to {output_crs.name}\")\n",
    "        # Reproject the feature class\n",
    "        arcpy.Project_management(dem, output_dem, output_crs)\n",
    "    else:\n",
    "        print(f\"{fc} is already in the desired CRS ({output_crs.name})\")"
   ]
  },
  {
   "cell_type": "code",
   "execution_count": 22,
   "metadata": {},
   "outputs": [
    {
     "name": "stdout",
     "output_type": "stream",
     "text": [
      "Downloaded: C:\\Users\\Eli Schlossberg\\Documents\\ArcGIS\\Projects\\MyProject\\dem.zip\n"
     ]
    }
   ],
   "source": [
    "# Download the .tif file\n",
    "download_dem(dem_url, os.path.join(out_dir, 'dem.zip'))\n",
    "dem_path = os.path.join(out_dir, r'dem', 'elev_30m_digital_elevation_model.gdb', r'digital_elevation_model_30m')"
   ]
  },
  {
   "cell_type": "code",
   "execution_count": 40,
   "metadata": {},
   "outputs": [
    {
     "name": "stdout",
     "output_type": "stream",
     "text": [
      "Reprojecting C:\\Users\\Eli Schlossberg\\Documents\\ArcGIS\\Projects\\MyProject\\dem\\elev_30m_digital_elevation_model.gdb\\digital_elevation_model_30m from NAD_1983_UTM_Zone_15N to NAD_1983_UTM_Zone_15N\n"
     ]
    },
    {
     "ename": "ExecuteError",
     "evalue": "Failed to execute. Parameters are not valid.\nERROR 000732: Input Dataset or Feature Class: Dataset C:\\Users\\Eli Schlossberg\\Documents\\ArcGIS\\Projects\\MyProject\\dem\\elev_30m_digital_elevation_model.gdb\\digital_elevation_model_30m does not exist or is not supported\nFailed to execute (Project).\n",
     "output_type": "error",
     "traceback": [
      "\u001b[0;31m---------------------------------------------------------------------------\u001b[0m\n\u001b[0;31mExecuteError\u001b[0m                              Traceback (most recent call last)",
      "In  \u001b[0;34m[40]\u001b[0m:\nLine \u001b[0;34m1\u001b[0m:     crs_qa_step(dem_path, output_dem)\u001b[37m\u001b[39;49;00m\n",
      "In  \u001b[0;34m[39]\u001b[0m:\nLine \u001b[0;34m21\u001b[0m:    arcpy.Project_management(dem, output_dem, output_crs)\u001b[37m\u001b[39;49;00m\n",
      "File \u001b[0;34mC:\\Program Files\\ArcGIS\\Pro\\Resources\\ArcPy\\arcpy\\management.py\u001b[0m, in \u001b[0;32mProject\u001b[0m:\nLine \u001b[0;34m13246\u001b[0m: \u001b[34mraise\u001b[39;49;00m e\u001b[37m\u001b[39;49;00m\n",
      "File \u001b[0;34mC:\\Program Files\\ArcGIS\\Pro\\Resources\\ArcPy\\arcpy\\management.py\u001b[0m, in \u001b[0;32mProject\u001b[0m:\nLine \u001b[0;34m13243\u001b[0m: retval = convertArcObjectToPythonObject(gp.Project_management(*gp_fixargs((in_dataset, out_dataset, out_coor_system, transform_method, in_coor_system, preserve_shape, max_deviation, vertical), \u001b[34mTrue\u001b[39;49;00m)))\u001b[37m\u001b[39;49;00m\n",
      "File \u001b[0;34mC:\\Program Files\\ArcGIS\\Pro\\Resources\\ArcPy\\arcpy\\geoprocessing\\_base.py\u001b[0m, in \u001b[0;32m<lambda>\u001b[0m:\nLine \u001b[0;34m520\u001b[0m:   \u001b[34mreturn\u001b[39;49;00m \u001b[34mlambda\u001b[39;49;00m *args: val(*gp_fixargs(args, \u001b[34mTrue\u001b[39;49;00m))\u001b[37m\u001b[39;49;00m\n",
      "\u001b[0;31mExecuteError\u001b[0m: Failed to execute. Parameters are not valid.\nERROR 000732: Input Dataset or Feature Class: Dataset C:\\Users\\Eli Schlossberg\\Documents\\ArcGIS\\Projects\\MyProject\\dem\\elev_30m_digital_elevation_model.gdb\\digital_elevation_model_30m does not exist or is not supported\nFailed to execute (Project).\n\n\u001b[0;31m---------------------------------------------------------------------------\u001b[0m"
     ]
    }
   ],
   "source": [
    "crs_qa_step(dem_path, output_dem)"
   ]
  },
  {
   "cell_type": "code",
   "execution_count": null,
   "metadata": {},
   "outputs": [],
   "source": []
  }
 ],
 "metadata": {
  "kernelspec": {
   "display_name": "ArcGISPro",
   "language": "Python",
   "name": "python3"
  }
 },
 "nbformat": 4,
 "nbformat_minor": 2
}
