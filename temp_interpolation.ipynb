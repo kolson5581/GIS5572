{
 "cells": [
  {
   "cell_type": "code",
   "execution_count": 8,
   "metadata": {},
   "outputs": [],
   "source": [
    "import arcpy\n",
    "import os\n",
    "import pandas as pd\n",
    "import numpy as np\n",
    "from arcpy import sa\n",
    "import psycopg2\n",
    "import random\n"
   ]
  },
  {
   "cell_type": "code",
   "execution_count": null,
   "metadata": {},
   "outputs": [],
   "source": [
    "#Create database connection - only do this step if connection in arcgis pro not already established\n",
    "arcpy.management.CreateDatabaseConnection(\n",
    "    out_folder_path=r\"C:\\Users\\KOlso\\Documents\\GIS5572\",\n",
    "    out_name=\"Test\",\n",
    "    database_platform=\"POSTGRESQL\",\n",
    "    instance=\"34.30.71.239\",\n",
    "    account_authentication=\"DATABASE_AUTH\",\n",
    "    username=\"postgres\",\n",
    "    password='',\n",
    "    save_user_pass=\"SAVE_USERNAME\",\n",
    "    database=\"gis_data\",\n",
    "    schema=\"\",\n",
    "    version_type=\"TRANSACTIONAL\",\n",
    "    version=\"\",\n",
    "    date=None,\n",
    "    auth_type=\"\",\n",
    "    project_id=\"\",\n",
    "    default_dataset=\"\",\n",
    "    refresh_token='',\n",
    "    key_file=None,\n",
    "    role=\"\",\n",
    "    warehouse=\"\",\n",
    "    advanced_options=\"\"\n",
    ")"
   ]
  },
  {
   "cell_type": "markdown",
   "metadata": {},
   "source": [
    "## Connect to databse - retrieve temperature data for Aug 31, 2024 - convert to fc"
   ]
  },
  {
   "cell_type": "code",
   "execution_count": 47,
   "metadata": {},
   "outputs": [
    {
     "name": "stdout",
     "output_type": "stream",
     "text": [
      "✅ Feature class created: G:\\ArcGIS\\Projects\\5572\\5572.gdb\\mesonet_fc\n"
     ]
    }
   ],
   "source": [
    "#probably going to delete this cell\n",
    "\n",
    "# Set paths - using SDE files to connect to database\n",
    "sde_path = r\"G:\\ArcGIS\\Projects\\5572\\PostgreSQL-34-gis_data(postgres).sde\"\n",
    "source_table = f\"{sde_path}\\\\gis_data.public.mesonet\"\n",
    "output_fc = r\"G:\\ArcGIS\\Projects\\5572\\5572.gdb\\mesonet_fc\"\n",
    "\n",
    "# Temporary feature class\n",
    "arcpy.management.CreateFeatureclass(\n",
    "    out_path=r\"G:\\ArcGIS\\Projects\\5572\\5572.gdb\",\n",
    "    out_name=\"mesonet_fc\",\n",
    "    geometry_type=\"POINT\",  # or POLYGON/LINE depending on your data\n",
    "    spatial_reference=arcpy.Describe(source_table).spatialReference\n",
    ")\n",
    "\n",
    "# Add fields\n",
    "arcpy.management.AddField(output_fc, \"stid\", \"TEXT\", field_length=50)\n",
    "arcpy.management.AddField(output_fc, \"temp_20240831\", \"DOUBLE\")\n",
    "arcpy.management.AddField(output_fc, \"name\", \"TEXT\", field_length=100)\n",
    "\n",
    "# Fields to read from source and write to destination\n",
    "read_fields = [\"stid\", \"20240831\", \"name\", \"SHAPE@\"]  # SHAPE@ gets geometry\n",
    "write_fields = [\"stid\", \"temp_20240831\", \"name\", \"SHAPE@\"]\n",
    "\n",
    "# Insert data\n",
    "with arcpy.da.SearchCursor(source_table, read_fields) as search_cursor, \\\n",
    "     arcpy.da.InsertCursor(output_fc, write_fields) as insert_cursor:\n",
    "    for row in search_cursor:\n",
    "        # Optionally rename or validate data\n",
    "        stid, temp, name, shape = row\n",
    "        insert_cursor.insertRow((stid, temp, name, shape))\n",
    "\n",
    "print(f\"✅ Feature class created: {output_fc}\")"
   ]
  },
  {
   "cell_type": "code",
   "execution_count": 3,
   "metadata": {},
   "outputs": [
    {
     "name": "stdout",
     "output_type": "stream",
     "text": [
      "Feature class created from psycopg2 data.\n"
     ]
    }
   ],
   "source": [
    "#connect to db\n",
    "conn = psycopg2.connect(\n",
    "    dbname=\"gis_data\",\n",
    "    user=\"postgres\",\n",
    "    password=\"heat2025risk\",\n",
    "    host=\"34.30.71.239\",\n",
    "    port=\"5432\"\n",
    ")\n",
    "\n",
    "cur = conn.cursor()\n",
    "cur.execute(\"\"\"\n",
    "    SELECT stid, \"20240831\", name, ST_AsText(geometry) \n",
    "    FROM gis_data.public.mesonet\n",
    "\"\"\")\n",
    "rows = cur.fetchall()\n",
    "conn.close()\n",
    "\n",
    "# --- Step 2: Prepare new feature class ---\n",
    "output_fc = r\"C:\\Users\\KOlso\\OneDrive\\Documents\\ArcGIS\\Projects\\Test_GIS5572\\Test_GIS5572.gdb\\mesonet_fc_alt\"\n",
    "sr = arcpy.SpatialReference(4326)  # Adjust if your data uses a different SRID\n",
    "\n",
    "# Create the feature class\n",
    "arcpy.management.CreateFeatureclass(\n",
    "    out_path=r\"C:\\Users\\KOlso\\OneDrive\\Documents\\ArcGIS\\Projects\\Test_GIS5572\\Test_GIS5572.gdb\",\n",
    "    out_name=\"mesonet_fc_alt\",\n",
    "    geometry_type=\"POINT\",\n",
    "    spatial_reference=sr\n",
    ")\n",
    "\n",
    "# Add fields to the feature class\n",
    "arcpy.management.AddField(output_fc, \"stid\", \"TEXT\", field_length=50)\n",
    "arcpy.management.AddField(output_fc, \"temp_20240831\", \"DOUBLE\")\n",
    "arcpy.management.AddField(output_fc, \"name\", \"TEXT\", field_length=100)\n",
    "\n",
    "# --- Step 3: Insert features ---\n",
    "with arcpy.da.InsertCursor(output_fc, [\"stid\", \"temp_20240831\", \"name\", \"SHAPE@XY\"]) as cursor:\n",
    "    for stid, temp, name, geom_wkt in rows:\n",
    "        try:\n",
    "            # Convert WKT to geometry using arcpy\n",
    "            geom = arcpy.FromWKT(geom_wkt)  # Convert WKT to geometry\n",
    "            cursor.insertRow((stid, temp, name, (geom.centroid.X, geom.centroid.Y)))  # Use centroid for point\n",
    "        except Exception as e:\n",
    "            print(f\"Error processing WKT for {stid}: {e}\")\n",
    "\n",
    "print(\"Feature class created from psycopg2 data.\")"
   ]
  },
  {
   "cell_type": "markdown",
   "metadata": {},
   "source": [
    "## Interpolate with all points"
   ]
  },
  {
   "cell_type": "code",
   "execution_count": 4,
   "metadata": {},
   "outputs": [],
   "source": [
    "#inerpolation 1 IDW\n",
    "with arcpy.EnvManager(scratchWorkspace=r\"C:\\Users\\KOlso\\OneDrive\\Documents\\ArcGIS\\Projects\\Test_GIS5572\\Test_GIS5572.gdb\"):\n",
    "    out_raster = arcpy.sa.Idw(\n",
    "        in_point_features=\"mesonet_fc_alt\",\n",
    "        z_field=\"temp_20240831\",\n",
    "        cell_size=0.0005,\n",
    "        power=2,\n",
    "        search_radius=\"VARIABLE 12\",\n",
    "        in_barrier_polyline_features=None\n",
    "    )\n",
    "    out_raster.save(r\"C:\\Users\\KOlso\\OneDrive\\Documents\\ArcGIS\\Projects\\Test_GIS5572\\Test_GIS5572.gdb\\mesonet_alt_IDW_all\")\n",
    "\n",
    "\n"
   ]
  },
  {
   "cell_type": "code",
   "execution_count": 5,
   "metadata": {},
   "outputs": [],
   "source": [
    "#interpolation 2 - Ordinary Kriging\n",
    "\n",
    "with arcpy.EnvManager(scratchWorkspace=r\"C:\\Users\\KOlso\\OneDrive\\Documents\\ArcGIS\\Projects\\Test_GIS5572\\Test_GIS5572.gdb\"):\n",
    "    out_surface_raster = arcpy.sa.Kriging(\n",
    "        in_point_features=\"mesonet_fc_alt\",\n",
    "        z_field=\"temp_20240831\",\n",
    "        kriging_model=\"Spherical # # # #\",\n",
    "        cell_size=0.0005,\n",
    "        search_radius=\"VARIABLE 12\",\n",
    "        out_variance_prediction_raster=None\n",
    "    )\n",
    "    out_surface_raster.save(r\"C:\\Users\\KOlso\\OneDrive\\Documents\\ArcGIS\\Projects\\Test_GIS5572\\Test_GIS5572.gdb\\mesonet_alt_okri_all\")\n"
   ]
  },
  {
   "cell_type": "code",
   "execution_count": 6,
   "metadata": {},
   "outputs": [],
   "source": [
    "#interpolation #3 - Universal Kriging\n",
    "\n",
    "with arcpy.EnvManager(scratchWorkspace=r\"C:\\Users\\KOlso\\OneDrive\\Documents\\ArcGIS\\Projects\\Test_GIS5572\\Test_GIS5572.gdb\"):\n",
    "    out_surface_raster = arcpy.sa.Kriging(\n",
    "        in_point_features=\"mesonet_fc_alt\",\n",
    "        z_field=\"temp_20240831\",\n",
    "        kriging_model=\"LinearDrift 0.000500 # # #\",\n",
    "        cell_size=0.0005,\n",
    "        search_radius=\"VARIABLE 12\",\n",
    "        out_variance_prediction_raster=None\n",
    "    )\n",
    "    out_surface_raster.save(r\"C:\\Users\\KOlso\\OneDrive\\Documents\\ArcGIS\\Projects\\Test_GIS5572\\Test_GIS5572.gdb\\mesonet_alt_ukri_all\")"
   ]
  },
  {
   "cell_type": "code",
   "execution_count": 1,
   "metadata": {},
   "outputs": [
    {
     "data": {
      "text/html": [
       "<div class='gpresult'><h2 class='msg-title'>Messages</h2><div id='messages'>Start Time: Thursday, April 10, 2025 11:16:20 AM<br>Calculating Ordinary Kriging – Default<br>\\r\\nWarning(s) for dataset: mesonet_fc_alt<br>WARNING 040402: NODATA value ignored. ObjectID = 7<br>Calculating Ordinary Kriging – Optimized<br>\\r\\nWarning(s) for dataset: mesonet_fc_alt<br>WARNING 040402: NODATA value ignored. ObjectID = 7<br>Calculating Universal Kriging – Default<br>\\r\\nWarning(s) for dataset: mesonet_fc_alt<br>WARNING 040402: NODATA value ignored. ObjectID = 7<br>Calculating Universal Kriging – Optimized<br>\\r\\nWarning(s) for dataset: mesonet_fc_alt<br>WARNING 040402: NODATA value ignored. ObjectID = 7<br>Calculating Inverse Distance Weighted - Default<br>\\r\\nWarning(s) for dataset: mesonet_fc_alt<br>WARNING 040402: NODATA value ignored. ObjectID = 7<br>Calculating Inverse Distance Weighted - Optimized<br>\\r\\nWarning(s) for dataset: mesonet_fc_alt<br>WARNING 040402: NODATA value ignored. ObjectID = 7<br>\\r\\nWarning(s) for dataset: mesonet_fc_alt<br>WARNING 040402: NODATA value ignored. ObjectID = 7<br> \\n<br>--------------------------------------------<br>RANK | NAME<br>--------------------------------------------<br>\\n<br>1    | Ordinary Kriging – Optimized<br>\\n<br>2    | Inverse Distance Weighted - Optimized<br>\\n<br>3    | Ordinary Kriging – Default<br>\\n<br>4    | Universal Kriging – Optimized<br>\\n<br>5    | Inverse Distance Weighted - Default<br>\\n<br>6    | Universal Kriging – Default<br>--------------------------------------------<br>Succeeded at Thursday, April 10, 2025 11:16:32 AM (Elapsed Time: 12.54 seconds)<br></div><div id = 'default' /></div></div>"
      ],
      "text/plain": [
       "<Result 'G:\\\\ArcGIS\\\\Projects\\\\5572\\\\5572.gdb\\\\Temp_0831_ExpInt_table'>"
      ]
     },
     "execution_count": 1,
     "metadata": {},
     "output_type": "execute_result"
    }
   ],
   "source": [
    "#skip on laptop\n",
    "\n",
    "#accuracy assessment - one approach\n",
    "arcpy.ga.ExploratoryInterpolation(\n",
    "    in_features=\"mesonet_fc_alt\",\n",
    "    value_field=\"temp_20240831\",\n",
    "    out_cv_table=r\"G:\\ArcGIS\\Projects\\5572\\5572.gdb\\Temp_0831_ExpInt_table\",\n",
    "    out_geostat_layer=\"test_output_ex_int\",\n",
    "    interp_methods=\"ORDINARY_KRIGING;UNIVERSAL_KRIGING;IDW\",\n",
    "    comparison_method=\"SINGLE\",\n",
    "    criterion=\"ACCURACY\",\n",
    "    criteria_hierarchy=\"ACCURACY PERCENT #\",\n",
    "    weighted_criteria=\"ACCURACY 1\",\n",
    "    exclusion_criteria=None\n",
    ")"
   ]
  },
  {
   "cell_type": "code",
   "execution_count": null,
   "metadata": {},
   "outputs": [],
   "source": [
    "#Ordinary Kriging shows as the best from this group"
   ]
  },
  {
   "cell_type": "code",
   "execution_count": 9,
   "metadata": {},
   "outputs": [
    {
     "ename": "<class 'arcgisscripting.ExecuteError'>",
     "evalue": "Failed to execute. Parameters are not valid.\nERROR 000840: The value is not a Geostatistical Layer.\nFailed to execute (CompareGeostatisticalLayers).\n",
     "output_type": "error",
     "traceback": [
      "\u001b[1;31m---------------------------------------------------------------------------\u001b[0m",
      "\u001b[1;31mExecuteError\u001b[0m                              Traceback (most recent call last)",
      "Cell \u001b[1;32mIn[9], line 12\u001b[0m\n\u001b[0;32m      1\u001b[0m \u001b[38;5;66;03m#Accuracy assessment, another approach that allows us to know for sure we're evaluating specific interpolation outputs\u001b[39;00m\n\u001b[0;32m      2\u001b[0m \n\u001b[0;32m      3\u001b[0m \u001b[38;5;66;03m# Find actual layer objects\u001b[39;00m\n\u001b[1;32m   (...)\u001b[0m\n\u001b[0;32m      8\u001b[0m \u001b[38;5;66;03m# Create list of actual layer objects\u001b[39;00m\n\u001b[0;32m      9\u001b[0m \u001b[38;5;66;03m#in_layers = f\"{gpi_layer};{ekb_layer};{idw_layer}\"\u001b[39;00m\n\u001b[1;32m---> 12\u001b[0m arcpy\u001b[38;5;241m.\u001b[39mga\u001b[38;5;241m.\u001b[39mCompareGeostatisticalLayers(\n\u001b[0;32m     13\u001b[0m     in_geostat_layers\u001b[38;5;241m=\u001b[39m\u001b[38;5;124m\"\u001b[39m\u001b[38;5;124mMesonet_alt_GPI;Mesonet_alt_EKB;Mesonet_alt_IDW\u001b[39m\u001b[38;5;124m\"\u001b[39m,\n\u001b[0;32m     14\u001b[0m     out_cv_table\u001b[38;5;241m=\u001b[39m\u001b[38;5;124mr\u001b[39m\u001b[38;5;124m\"\u001b[39m\u001b[38;5;124mG:\u001b[39m\u001b[38;5;124m\\\u001b[39m\u001b[38;5;124mArcGIS\u001b[39m\u001b[38;5;124m\\\u001b[39m\u001b[38;5;124mProjects\u001b[39m\u001b[38;5;124m\\\u001b[39m\u001b[38;5;124m5572\u001b[39m\u001b[38;5;124m\\\u001b[39m\u001b[38;5;124m5572.gdb\u001b[39m\u001b[38;5;124m\\\u001b[39m\u001b[38;5;124mMesonet_0831_Validation_table\u001b[39m\u001b[38;5;124m\"\u001b[39m,\n\u001b[0;32m     15\u001b[0m     out_geostat_layer\u001b[38;5;241m=\u001b[39m\u001b[38;5;28;01mNone\u001b[39;00m,\n\u001b[0;32m     16\u001b[0m     comparison_method\u001b[38;5;241m=\u001b[39m\u001b[38;5;124m\"\u001b[39m\u001b[38;5;124mSINGLE\u001b[39m\u001b[38;5;124m\"\u001b[39m,\n\u001b[0;32m     17\u001b[0m     criterion\u001b[38;5;241m=\u001b[39m\u001b[38;5;124m\"\u001b[39m\u001b[38;5;124mACCURACY\u001b[39m\u001b[38;5;124m\"\u001b[39m,\n\u001b[0;32m     18\u001b[0m     criteria_hierarchy\u001b[38;5;241m=\u001b[39m\u001b[38;5;124m\"\u001b[39m\u001b[38;5;124mACCURACY PERCENT #\u001b[39m\u001b[38;5;124m\"\u001b[39m,\n\u001b[0;32m     19\u001b[0m     weighted_criteria\u001b[38;5;241m=\u001b[39m\u001b[38;5;124m\"\u001b[39m\u001b[38;5;124mACCURACY 1\u001b[39m\u001b[38;5;124m\"\u001b[39m,\n\u001b[0;32m     20\u001b[0m     exclusion_criteria\u001b[38;5;241m=\u001b[39m\u001b[38;5;28;01mNone\u001b[39;00m\n\u001b[0;32m     21\u001b[0m )\n",
      "File \u001b[1;32mC:\\Program Files\\ArcGIS\\Pro\\Resources\\ArcPy\\arcpy\\ga.py:2263\u001b[0m, in \u001b[0;36mCompareGeostatisticalLayers\u001b[1;34m(in_geostat_layers, out_cv_table, out_geostat_layer, comparison_method, criterion, criteria_hierarchy, weighted_criteria, exclusion_criteria)\u001b[0m\n\u001b[0;32m   2261\u001b[0m     \u001b[38;5;28;01mreturn\u001b[39;00m retval\n\u001b[0;32m   2262\u001b[0m \u001b[38;5;28;01mexcept\u001b[39;00m \u001b[38;5;167;01mException\u001b[39;00m \u001b[38;5;28;01mas\u001b[39;00m e:\n\u001b[1;32m-> 2263\u001b[0m     \u001b[38;5;28;01mraise\u001b[39;00m e\n",
      "File \u001b[1;32mC:\\Program Files\\ArcGIS\\Pro\\Resources\\ArcPy\\arcpy\\ga.py:2245\u001b[0m, in \u001b[0;36mCompareGeostatisticalLayers\u001b[1;34m(in_geostat_layers, out_cv_table, out_geostat_layer, comparison_method, criterion, criteria_hierarchy, weighted_criteria, exclusion_criteria)\u001b[0m\n\u001b[0;32m   2241\u001b[0m \u001b[38;5;28;01mfrom\u001b[39;00m \u001b[38;5;21;01marcpy\u001b[39;00m\u001b[38;5;21;01m.\u001b[39;00m\u001b[38;5;21;01marcobjects\u001b[39;00m\u001b[38;5;21;01m.\u001b[39;00m\u001b[38;5;21;01marcobjectconversion\u001b[39;00m \u001b[38;5;28;01mimport\u001b[39;00m convertArcObjectToPythonObject\n\u001b[0;32m   2243\u001b[0m \u001b[38;5;28;01mtry\u001b[39;00m:\n\u001b[0;32m   2244\u001b[0m     retval \u001b[38;5;241m=\u001b[39m convertArcObjectToPythonObject(\n\u001b[1;32m-> 2245\u001b[0m         gp\u001b[38;5;241m.\u001b[39mCompareGeostatisticalLayers_ga(\n\u001b[0;32m   2246\u001b[0m             \u001b[38;5;241m*\u001b[39mgp_fixargs(\n\u001b[0;32m   2247\u001b[0m                 (\n\u001b[0;32m   2248\u001b[0m                     in_geostat_layers,\n\u001b[0;32m   2249\u001b[0m                     out_cv_table,\n\u001b[0;32m   2250\u001b[0m                     out_geostat_layer,\n\u001b[0;32m   2251\u001b[0m                     comparison_method,\n\u001b[0;32m   2252\u001b[0m                     criterion,\n\u001b[0;32m   2253\u001b[0m                     criteria_hierarchy,\n\u001b[0;32m   2254\u001b[0m                     weighted_criteria,\n\u001b[0;32m   2255\u001b[0m                     exclusion_criteria,\n\u001b[0;32m   2256\u001b[0m                 ),\n\u001b[0;32m   2257\u001b[0m                 \u001b[38;5;28;01mTrue\u001b[39;00m,\n\u001b[0;32m   2258\u001b[0m             )\n\u001b[0;32m   2259\u001b[0m         )\n\u001b[0;32m   2260\u001b[0m     )\n\u001b[0;32m   2261\u001b[0m     \u001b[38;5;28;01mreturn\u001b[39;00m retval\n\u001b[0;32m   2262\u001b[0m \u001b[38;5;28;01mexcept\u001b[39;00m \u001b[38;5;167;01mException\u001b[39;00m \u001b[38;5;28;01mas\u001b[39;00m e:\n",
      "File \u001b[1;32mC:\\Program Files\\ArcGIS\\Pro\\Resources\\ArcPy\\arcpy\\geoprocessing\\_base.py:532\u001b[0m, in \u001b[0;36mGeoprocessor.__getattr__.<locals>.<lambda>\u001b[1;34m(*args)\u001b[0m\n\u001b[0;32m    530\u001b[0m val \u001b[38;5;241m=\u001b[39m \u001b[38;5;28mgetattr\u001b[39m(\u001b[38;5;28mself\u001b[39m\u001b[38;5;241m.\u001b[39m_gp, attr)\n\u001b[0;32m    531\u001b[0m \u001b[38;5;28;01mif\u001b[39;00m \u001b[38;5;28mcallable\u001b[39m(val):\n\u001b[1;32m--> 532\u001b[0m     \u001b[38;5;28;01mreturn\u001b[39;00m \u001b[38;5;28;01mlambda\u001b[39;00m \u001b[38;5;241m*\u001b[39margs: val(\u001b[38;5;241m*\u001b[39mgp_fixargs(args, \u001b[38;5;28;01mTrue\u001b[39;00m))\n\u001b[0;32m    533\u001b[0m \u001b[38;5;28;01melse\u001b[39;00m:\n\u001b[0;32m    534\u001b[0m     \u001b[38;5;28;01mreturn\u001b[39;00m convertArcObjectToPythonObject(val)\n",
      "\u001b[1;31mExecuteError\u001b[0m: Failed to execute. Parameters are not valid.\nERROR 000840: The value is not a Geostatistical Layer.\nFailed to execute (CompareGeostatisticalLayers).\n"
     ]
    }
   ],
   "source": [
    "#Accuracy assessment, another approach that allows us to know for sure we're evaluating specific interpolation outputs\n",
    "\n",
    "#but it doesn't actually work in the notebook for some reason - works in the GUI! \n",
    "# arcpy.ga.CompareGeostatisticalLayers(\n",
    "#     in_geostat_layers=\"Mesonet_alt_GPI;Mesonet_alt_EKB;Mesonet_alt_IDW\",\n",
    "#     out_cv_table=r\"G:\\ArcGIS\\Projects\\5572\\5572.gdb\\Mesonet_0831_Validation_table\",\n",
    "#     out_geostat_layer=None,\n",
    "#     comparison_method=\"SINGLE\",\n",
    "#     criterion=\"ACCURACY\",\n",
    "#     criteria_hierarchy=\"ACCURACY PERCENT #\",\n",
    "#     weighted_criteria=\"ACCURACY 1\",\n",
    "#     exclusion_criteria=None\n",
    "# )\n"
   ]
  },
  {
   "cell_type": "markdown",
   "metadata": {},
   "source": [
    "## Validate results"
   ]
  },
  {
   "cell_type": "code",
   "execution_count": 9,
   "metadata": {},
   "outputs": [],
   "source": [
    "# Set environment\n",
    "arcpy.env.workspace = r\"C:\\Users\\KOlso\\OneDrive\\Documents\\ArcGIS\\Projects\\Test_GIS5572\\Test_GIS5572.gdb\"\n",
    "arcpy.env.overwriteOutput = True\n",
    "\n",
    "# Inputs\n",
    "input_fc = \"mesonet_fc_alt\"\n",
    "z_field = \"temp_20240831\"\n",
    "id_field = \"stid\"\n",
    "cell_size = .0005  # Adjust based on your needs\n",
    "num_folds = 9\n",
    "fold_size = 3\n",
    "output_table_base = \"cv_results\"  # Base name for all output tables\n",
    "\n",
    "# Set extent to match the feature class\n",
    "extent = arcpy.Describe(input_fc).extent\n",
    "arcpy.env.extent = extent\n",
    "\n",
    "# Create list of all OIDs and assign to folds\n",
    "oids = [row[0] for row in arcpy.da.SearchCursor(input_fc, [\"OID@\"])]\n",
    "random.shuffle(oids)\n",
    "folds = [oids[i:i+fold_size] for i in range(0, len(oids), fold_size)]\n",
    "\n",
    "# Create a new table for validation results (this will be recreated for each method)\n",
    "def create_validation_table(output_table_name):\n",
    "    \"\"\"Creates a validation table with MAE and difference columns\"\"\"\n",
    "    if arcpy.Exists(output_table_name):\n",
    "        arcpy.management.Delete(output_table_name)\n",
    "    arcpy.management.CreateTable(arcpy.env.workspace, output_table_name)\n",
    "    arcpy.management.AddField(output_table_name, \"Fold\", \"SHORT\")\n",
    "    arcpy.management.AddField(output_table_name, \"OID\", \"LONG\")\n",
    "    arcpy.management.AddField(output_table_name, \"stid\", \"TEXT\", field_length=50)\n",
    "    arcpy.management.AddField(output_table_name, \"Actual\", \"DOUBLE\")\n",
    "    arcpy.management.AddField(output_table_name, \"Predicted\", \"DOUBLE\")\n",
    "    arcpy.management.AddField(output_table_name, \"Difference\", \"DOUBLE\")\n",
    "    arcpy.management.AddField(output_table_name, \"MAE\", \"DOUBLE\")  # This will store the MAE for the fold"
   ]
  },
  {
   "cell_type": "markdown",
   "metadata": {},
   "source": [
    "### IDW cross validation"
   ]
  },
  {
   "cell_type": "code",
   "execution_count": 15,
   "metadata": {},
   "outputs": [
    {
     "name": "stdout",
     "output_type": "stream",
     "text": [
      "Processing fold 1...\n",
      "Processing fold 2...\n",
      "Processing fold 3...\n",
      "Processing fold 4...\n",
      "Processing fold 5...\n",
      "Processing fold 6...\n",
      "Processing fold 7...\n",
      "Processing fold 8...\n",
      "Processing fold 9...\n",
      "✅ Cross-validation with IDW complete. Results saved to 'idw_cv_results'.\n"
     ]
    }
   ],
   "source": [
    "# Set the output table name for IDW results\n",
    "output_table_idw = f\"{output_table_base}_IDW\"\n",
    "\n",
    "# Create a table to store results for IDW\n",
    "create_validation_table(output_table_idw)\n",
    "\n",
    "# Perform IDW cross-validation\n",
    "for i, test_oids in enumerate(folds):\n",
    "    print(f\"Processing fold {i+1}...\")\n",
    "\n",
    "    # Create training and testing feature layers\n",
    "    train_layer = f\"train_{i}\"\n",
    "    test_layer = f\"test_{i}\"\n",
    "    test_oid_str = \",\".join(str(oid) for oid in test_oids)\n",
    "    train_where = f\"OBJECTID NOT IN ({test_oid_str})\"\n",
    "    test_where = f\"OBJECTID IN ({test_oid_str})\"\n",
    "\n",
    "    arcpy.management.MakeFeatureLayer(input_fc, train_layer, train_where)\n",
    "    arcpy.management.MakeFeatureLayer(input_fc, test_layer, test_where)\n",
    "\n",
    "    # Run IDW interpolation\n",
    "    idw_raster = arcpy.sa.Idw(\n",
    "        in_point_features=train_layer,\n",
    "        z_field=z_field,\n",
    "        cell_size=cell_size\n",
    "    )\n",
    "\n",
    "    idw_raster_name = f\"idw_fold_{i+1}\"\n",
    "    idw_raster.save(idw_raster_name)\n",
    "\n",
    "    # Extract predicted values to test points\n",
    "    test_with_prediction = f\"test_with_pred_{i}\"\n",
    "    arcpy.sa.ExtractValuesToPoints(test_layer, idw_raster, test_with_prediction, interpolate_values=\"NONE\")\n",
    "\n",
    "    # Record actual vs predicted\n",
    "    fields = [\"Fold\", \"OID@\", id_field, z_field, \"RASTERVALU\"]\n",
    "    with arcpy.da.SearchCursor(test_with_prediction, [\"OID@\", id_field, z_field, \"RASTERVALU\"]) as cursor_in, \\\n",
    "         arcpy.da.InsertCursor(output_table_idw, [\"Fold\", \"OID\", \"stid\", \"Actual\", \"Predicted\", \"Difference\", \"MAE\"]) as cursor_out:\n",
    "        for row in cursor_in:\n",
    "            actual_value = row[2]\n",
    "            predicted_value = row[3]\n",
    "            \n",
    "            # Check if both actual and predicted values are not None\n",
    "            if actual_value is not None and predicted_value is not None:\n",
    "                diff = predicted_value - actual_value  # Difference = Predicted - Actual\n",
    "                mae = abs(diff)  # MAE = absolute difference\n",
    "                cursor_out.insertRow((i + 1, row[0], row[1], actual_value, predicted_value, diff, mae))\n",
    "            else:\n",
    "                # If either value is None, you can handle it by skipping or inserting a null value\n",
    "                cursor_out.insertRow((i + 1, row[0], row[1], actual_value, predicted_value, None, None))\n",
    "\n",
    "\n",
    "    # Clean up\n",
    "    arcpy.management.Delete(train_layer)\n",
    "    arcpy.management.Delete(test_layer)\n",
    "    arcpy.management.Delete(test_with_prediction)\n",
    "    arcpy.management.Delete(idw_raster)\n",
    "\n",
    "print(\"✅ Cross-validation with IDW complete. Results saved to 'idw_cv_results'.\")"
   ]
  },
  {
   "cell_type": "code",
   "execution_count": 14,
   "metadata": {},
   "outputs": [
    {
     "name": "stdout",
     "output_type": "stream",
     "text": [
      "Fold 9 - Test points: 3\n"
     ]
    }
   ],
   "source": [
    "print(f\"Fold {i+1} - Test points: {arcpy.management.GetCount(test_with_prediction)[0]}\")"
   ]
  },
  {
   "cell_type": "markdown",
   "metadata": {},
   "source": [
    "### Ordinary Kriging Cross Validation"
   ]
  },
  {
   "cell_type": "code",
   "execution_count": 16,
   "metadata": {},
   "outputs": [
    {
     "name": "stdout",
     "output_type": "stream",
     "text": [
      "Processing fold 1...\n",
      "Processing fold 2...\n",
      "Processing fold 3...\n",
      "Processing fold 4...\n",
      "Processing fold 5...\n",
      "Processing fold 6...\n",
      "Processing fold 7...\n",
      "Processing fold 8...\n",
      "Processing fold 9...\n",
      "✅ Cross-validation with Ordinary Kriging complete. Results saved to 'ok_cv_results'.\n"
     ]
    }
   ],
   "source": [
    "# Set the output table name for OK results\n",
    "output_table_ok = f\"{output_table_base}_OK\"\n",
    "\n",
    "# Create a table to store results for Ordinary Kriging\n",
    "create_validation_table(output_table_ok)\n",
    "\n",
    "# Perform Ordinary Kriging cross-validation\n",
    "for i, test_oids in enumerate(folds):\n",
    "    print(f\"Processing fold {i+1}...\")\n",
    "\n",
    "    # Create training and testing feature layers\n",
    "    train_layer = f\"train_{i}\"\n",
    "    test_layer = f\"test_{i}\"\n",
    "    test_oid_str = \",\".join(str(oid) for oid in test_oids)\n",
    "    train_where = f\"OBJECTID NOT IN ({test_oid_str})\"\n",
    "    test_where = f\"OBJECTID IN ({test_oid_str})\"\n",
    "\n",
    "    arcpy.management.MakeFeatureLayer(input_fc, train_layer, train_where)\n",
    "    arcpy.management.MakeFeatureLayer(input_fc, test_layer, test_where)\n",
    "\n",
    "    # Run Ordinary Kriging interpolation\n",
    "    ok_result = arcpy.sa.Kriging(\n",
    "        in_point_features=train_layer,\n",
    "        z_field=z_field,\n",
    "        kriging_model=\"Spherical\",  # Change as needed\n",
    "        cell_size=cell_size,\n",
    "        search_radius=\"VARIABLE 12\"\n",
    "    )\n",
    "\n",
    "    ok_raster_name = f\"ok_fold_{i+1}\"\n",
    "    ok_result.save(ok_raster_name)\n",
    "\n",
    "    # Extract predicted values to test points\n",
    "    test_with_prediction = f\"test_with_pred_{i}\"\n",
    "    arcpy.sa.ExtractValuesToPoints(test_layer, ok_result, test_with_prediction, interpolate_values=\"NONE\")\n",
    "\n",
    "    # Record actual vs predicted\n",
    "    fields = [\"Fold\", \"OID@\", id_field, z_field, \"RASTERVALU\"]\n",
    "    with arcpy.da.SearchCursor(test_with_prediction, [\"OID@\", id_field, z_field, \"RASTERVALU\"]) as cursor_in, \\\n",
    "         arcpy.da.InsertCursor(output_table_ok, [\"Fold\", \"OID\", \"stid\", \"Actual\", \"Predicted\", \"Difference\", \"MAE\"]) as cursor_out:\n",
    "        for row in cursor_in:\n",
    "            actual_value = row[2]\n",
    "            predicted_value = row[3]\n",
    "            \n",
    "            # Check if both actual and predicted values are not None\n",
    "            if actual_value is not None and predicted_value is not None:\n",
    "                diff = predicted_value - actual_value  # Difference = Predicted - Actual\n",
    "                mae = abs(diff)  # MAE = absolute difference\n",
    "                cursor_out.insertRow((i + 1, row[0], row[1], actual_value, predicted_value, diff, mae))\n",
    "            else:\n",
    "                # If either value is None, you can handle it by skipping or inserting a null value\n",
    "                cursor_out.insertRow((i + 1, row[0], row[1], actual_value, predicted_value, None, None))\n",
    "\n",
    "    # Clean up\n",
    "    arcpy.management.Delete(train_layer)\n",
    "    arcpy.management.Delete(test_layer)\n",
    "    arcpy.management.Delete(test_with_prediction)\n",
    "    arcpy.management.Delete(ok_result)\n",
    "\n",
    "print(\"✅ Cross-validation with Ordinary Kriging complete. Results saved to 'ok_cv_results'.\")"
   ]
  },
  {
   "cell_type": "markdown",
   "metadata": {},
   "source": [
    "### Universal Kriging Cross Validation"
   ]
  },
  {
   "cell_type": "code",
   "execution_count": 17,
   "metadata": {},
   "outputs": [
    {
     "name": "stdout",
     "output_type": "stream",
     "text": [
      "Processing fold 1...\n",
      "Processing fold 2...\n",
      "Processing fold 3...\n",
      "Processing fold 4...\n",
      "Processing fold 5...\n",
      "Processing fold 6...\n",
      "Processing fold 7...\n",
      "Processing fold 8...\n",
      "Processing fold 9...\n"
     ]
    }
   ],
   "source": [
    "# Set the output table name for UK results\n",
    "output_table_uk = f\"{output_table_base}_UK\"\n",
    "\n",
    "# Create a table to store results for Universal Kriging\n",
    "create_validation_table(output_table_uk)\n",
    "\n",
    "# Perform Universal Kriging cross-validation\n",
    "for i, test_oids in enumerate(folds):\n",
    "    print(f\"Processing fold {i+1}...\")\n",
    "\n",
    "    # Create training and testing feature layers\n",
    "    train_layer = f\"train_{i}\"\n",
    "    test_layer = f\"test_{i}\"\n",
    "    test_oid_str = \",\".join(str(oid) for oid in test_oids)\n",
    "    train_where = f\"OBJECTID NOT IN ({test_oid_str})\"\n",
    "    test_where = f\"OBJECTID IN ({test_oid_str})\"\n",
    "\n",
    "    arcpy.management.MakeFeatureLayer(input_fc, train_layer, train_where)\n",
    "    arcpy.management.MakeFeatureLayer(input_fc, test_layer, test_where)\n",
    "\n",
    "    # Run Universal Kriging interpolation\n",
    "    uk_result = arcpy.sa.Kriging(\n",
    "        in_point_features=train_layer,\n",
    "        z_field=z_field,\n",
    "        kriging_model=\"LinearDrift 0.000500 # # #\",\n",
    "        cell_size=cell_size,\n",
    "        search_radius=\"VARIABLE 12\",\n",
    "    )\n",
    "\n",
    "    uk_raster_name = f\"uk_fold_{i+1}\"\n",
    "    uk_result.save(uk_raster_name)\n",
    "\n",
    "    # Extract predicted values to test points\n",
    "    test_with_prediction = f\"test_with_pred_{i}\"\n",
    "    arcpy.sa.ExtractValuesToPoints(test_layer, uk_result, test_with_prediction, interpolate_values=\"NONE\")\n",
    "\n",
    "    # Record actual vs predicted\n",
    "    fields = [\"Fold\", \"OID@\", id_field, z_field, \"RASTERVALU\"]\n",
    "    with arcpy.da.SearchCursor(test_with_prediction, [\"OID@\", id_field, z_field, \"RASTERVALU\"]) as cursor_in, \\\n",
    "         arcpy.da.InsertCursor(output_table_uk, [\"Fold\", \"OID\", \"stid\", \"Actual\", \"Predicted\", \"Difference\", \"MAE\"]) as cursor_out:\n",
    "        for row in cursor_in:\n",
    "            actual_value = row[2]\n",
    "            predicted_value = row[3]\n",
    "            \n",
    "            # Check if both actual and predicted values are not None\n",
    "            if actual_value is not None and predicted_value is not None:\n",
    "                diff = predicted_value - actual_value  # Difference = Predicted - Actual\n",
    "                mae = abs(diff)  # MAE = absolute difference\n",
    "                cursor_out.insertRow((i + 1, row[0], row[1], actual_value, predicted_value, diff, mae))\n",
    "            else:\n",
    "                # If either value is None, you can handle it by skipping or inserting a null value\n",
    "                cursor_out.insertRow((i + 1, row[0], row[1], actual_value, predicted_value, None, None))\n",
    "    # Clean up\n",
    "    arcpy.management.Delete(train_layer)\n",
    "    arcpy.management.Delete(test_layer)\n",
    "    arcpy.management.Delete(test_with_prediction)\n",
    "    arcpy.management.Delete(ok_result)\n",
    "   \n"
   ]
  },
  {
   "cell_type": "code",
   "execution_count": null,
   "metadata": {},
   "outputs": [],
   "source": [
    "# THIS CELL IS A BUSTED VERSION BUT I'M USING IT FOR REFERENCE DON'T DELETE BUT DON'T RUN EITHER\n",
    "\n",
    "results = []\n",
    "\n",
    "for i in range(n_folds):\n",
    "    train = [pt for j, fold in enumerate(folds) if j != i for pt in fold]\n",
    "    test = folds[i]\n",
    "\n",
    "    temp_fc = \"in_memory/train\"\n",
    "    if arcpy.Exists(temp_fc):\n",
    "        arcpy.management.Delete(temp_fc)\n",
    "    arcpy.management.CreateFeatureclass(\"in_memory\", \"train\", \"POINT\", spatial_reference=4326)\n",
    "    for field in fields:\n",
    "        arcpy.management.AddField(temp_fc, field, \"TEXT\" if field == id_field else \"DOUBLE\")\n",
    "    with arcpy.da.InsertCursor(temp_fc, fields + [\"SHAPE@\"]) as cursor:\n",
    "        for row in train:\n",
    "            cursor.insertRow(row)\n",
    "\n",
    "    uk_result = arcpy.sa.Kriging(\n",
    "        in_point_features=temp_fc,\n",
    "        z_field=z_field,\n",
    "        kriging_model=\"LinearDrift 0.000500 # # #\",\n",
    "        cell_size=cell_size,\n",
    "        search_radius=\"VARIABLE 12\",\n",
    "    )\n",
    "\n",
    "    for row in test:\n",
    "        shp = row[-1]\n",
    "        stid = row[fields.index(id_field)]\n",
    "        obs = row[fields.index(z_field)]\n",
    "        pred = float(arcpy.GetCellValue_management(uk_result, shp.centroid).getOutput(0))\n",
    "        diff = pred - obs\n",
    "        mae = np.abs(diff)\n",
    "        results.append((stid, obs, pred, diff, mae))\n",
    "\n",
    "create_validation_table(f\"{output_table_base}_UK\", results)\n"
   ]
  },
  {
   "cell_type": "code",
   "execution_count": 18,
   "metadata": {},
   "outputs": [],
   "source": [
    "#Calculate RMSE MAE for each method - print in notebook is fine\n",
    "\n",
    "#pick best one\n",
    "#upload that one to db, and flask app"
   ]
  },
  {
   "cell_type": "code",
   "execution_count": null,
   "metadata": {},
   "outputs": [],
   "source": []
  }
 ],
 "metadata": {
  "kernelspec": {
   "display_name": "ArcGISPro",
   "language": "Python",
   "name": "python3"
  },
  "language_info": {
   "file_extension": ".py",
   "name": "python",
   "version": "3"
  }
 },
 "nbformat": 4,
 "nbformat_minor": 4
}
