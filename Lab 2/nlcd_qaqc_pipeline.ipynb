{
 "cells": [
  {
   "cell_type": "code",
   "execution_count": null,
   "metadata": {},
   "outputs": [],
   "source": [
    "import arcpy\n",
    "from arcpy import env, mp\n",
    "import pandas as pd\n",
    "import requests\n",
    "import os\n",
    "import zipfile\n",
    "import numpy as np\n",
    "\n",
    "landcover_url = r'https://resources.gisdata.mn.gov/pub/gdrs/data/pub/us_mn_state_dnr/biota_landcover_nlcd_mn_2019/tif_biota_landcover_nlcd_mn_2019.zip'\n",
    "out_dir = r'C:\\Users\\KOlso\\OneDrive\\Documents\\ArcGIS\\Projects\\GIS5571_Lab2'\n",
    "  \n",
    "output_crs = arcpy.SpatialReference(26915)\n",
    "output_landcover = os.path.join(out_dir, 'reprojected_nlcd.tif')"
   ]
  },
  {
   "cell_type": "code",
   "execution_count": 64,
   "metadata": {},
   "outputs": [],
   "source": [
    "def download_landcover(url, save_path):\n",
    "    response = requests.get(url, stream=True)\n",
    "    if response.status_code == 200:\n",
    "        with open(save_path, 'wb') as file:\n",
    "            for chunk in response.iter_content(chunk_size=1024):\n",
    "                file.write(chunk)\n",
    "        print(f\"Downloaded: {save_path}\")\n",
    "    else:\n",
    "        print(f\"Failed to download: {url}\")\n",
    "    with zipfile.ZipFile(save_path, 'r') as zip_ref:\n",
    "        zip_ref.extractall(os.path.join(out_dir, 'landcover'))\n",
    "\n",
    "def crs_qa_step(dem, output_dem):\n",
    "    desc = arcpy.Describe(dem)\n",
    "    current_crs = desc.spatialReference\n",
    "\n",
    "    # Check if the CRS is the desired one\n",
    "    if current_crs != output_crs:\n",
    "        print(f\"Reprojecting {dem} from {current_crs.name} to {output_crs.name}\")\n",
    "        # Reproject the feature class\n",
    "        arcpy.Project_management(dem, output_dem, output_crs)\n",
    "    else:\n",
    "        print(f\"{fc} is already in the desired CRS ({output_crs.name})\")"
   ]
  },
  {
   "cell_type": "code",
   "execution_count": null,
   "metadata": {},
   "outputs": [],
   "source": [
    "# Download the .tif file\n",
    "download_landcover(dem_url, os.path.join(out_dir, 'landcover.zip'))\n",
    "landcover_path = os.path.join(out_dir, r'landcover', r'NLCD_2019_Land_Cover.tif')\n",
    "landcover = arcpy.Raster(landcover_path)"
   ]
  },
  {
   "cell_type": "code",
   "execution_count": null,
   "metadata": {},
   "outputs": [],
   "source": [
    "crs_qa_step(landcover_path, output_landcover)"
   ]
  },
  {
   "cell_type": "code",
   "execution_count": null,
   "metadata": {},
   "outputs": [],
   "source": []
  }
 ],
 "metadata": {
  "kernelspec": {
   "display_name": "ArcGISPro",
   "language": "Python",
   "name": "python3"
  },
  "language_info": {
   "file_extension": ".py",
   "name": "python",
   "version": "3"
  }
 },
 "nbformat": 4,
 "nbformat_minor": 2
}
